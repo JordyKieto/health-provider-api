{
 "cells": [
  {
   "cell_type": "code",
   "execution_count": 25,
   "id": "simple-healing",
   "metadata": {},
   "outputs": [],
   "source": [
    "import pandas as pd\n",
    "import json\n",
    "import re\n",
    "from operator import itemgetter"
   ]
  },
  {
   "cell_type": "markdown",
   "id": "developmental-reality",
   "metadata": {},
   "source": [
    "## Data setup & init"
   ]
  },
  {
   "cell_type": "code",
   "execution_count": 26,
   "id": "aquatic-reserve",
   "metadata": {},
   "outputs": [],
   "source": [
    "with open('./original_records.json') as f:\n",
    "    data = json.load(f)"
   ]
  },
  {
   "cell_type": "code",
   "execution_count": 27,
   "id": "distinct-queen",
   "metadata": {},
   "outputs": [],
   "source": [
    "logs = pd.read_csv('./client_logs.csv')"
   ]
  },
  {
   "cell_type": "code",
   "execution_count": 28,
   "id": "aggressive-juice",
   "metadata": {},
   "outputs": [],
   "source": [
    "records = {record['npi']: record for record in data}"
   ]
  },
  {
   "cell_type": "code",
   "execution_count": 29,
   "id": "administrative-praise",
   "metadata": {},
   "outputs": [],
   "source": [
    "crud_methods = {\"override\", \"remove_fields\", \"remove\", \"add\"}\n",
    "resources = {\"specialties\", \"insurances\", \"locations\"}"
   ]
  },
  {
   "cell_type": "markdown",
   "id": "critical-blake",
   "metadata": {},
   "source": [
    "## Test to ensure we have npi for every record in the logs"
   ]
  },
  {
   "cell_type": "code",
   "execution_count": 30,
   "id": "sought-victim",
   "metadata": {},
   "outputs": [],
   "source": [
    "assert len(records.keys()) == logs.nunique()['npi']"
   ]
  },
  {
   "cell_type": "code",
   "execution_count": 31,
   "id": "floral-thickness",
   "metadata": {
    "scrolled": true
   },
   "outputs": [
    {
     "data": {
      "text/html": [
       "<div>\n",
       "<style scoped>\n",
       "    .dataframe tbody tr th:only-of-type {\n",
       "        vertical-align: middle;\n",
       "    }\n",
       "\n",
       "    .dataframe tbody tr th {\n",
       "        vertical-align: top;\n",
       "    }\n",
       "\n",
       "    .dataframe thead th {\n",
       "        text-align: right;\n",
       "    }\n",
       "</style>\n",
       "<table border=\"1\" class=\"dataframe\">\n",
       "  <thead>\n",
       "    <tr style=\"text-align: right;\">\n",
       "      <th></th>\n",
       "      <th>npi</th>\n",
       "      <th>path</th>\n",
       "      <th>method</th>\n",
       "      <th>request_body</th>\n",
       "      <th>created_at</th>\n",
       "    </tr>\n",
       "  </thead>\n",
       "  <tbody>\n",
       "    <tr>\n",
       "      <th>0</th>\n",
       "      <td>1578669594</td>\n",
       "      <td>/v1/custom/providers/1578669594/specialties</td>\n",
       "      <td>PUT</td>\n",
       "      <td>{\"remove\": []}</td>\n",
       "      <td>2020-08-07 13:51:24.200628</td>\n",
       "    </tr>\n",
       "    <tr>\n",
       "      <th>1</th>\n",
       "      <td>1619028081</td>\n",
       "      <td>/v1/custom/providers/1619028081/specialties</td>\n",
       "      <td>PUT</td>\n",
       "      <td>{\"remove\": []}</td>\n",
       "      <td>2020-08-07 13:51:24.141909</td>\n",
       "    </tr>\n",
       "    <tr>\n",
       "      <th>2</th>\n",
       "      <td>1720517568</td>\n",
       "      <td>/v1/custom/providers/1720517568/locations</td>\n",
       "      <td>PUT</td>\n",
       "      <td>{\"add\": [\"3fdd567c-7100-40e5-b6fb-36bef71b4213...</td>\n",
       "      <td>2020-08-07 13:51:22.649768</td>\n",
       "    </tr>\n",
       "    <tr>\n",
       "      <th>3</th>\n",
       "      <td>1578669594</td>\n",
       "      <td>/v1/custom/providers/1578669594/specialties</td>\n",
       "      <td>PUT</td>\n",
       "      <td>{\"remove\": []}</td>\n",
       "      <td>2020-08-07 13:51:21.795982</td>\n",
       "    </tr>\n",
       "    <tr>\n",
       "      <th>4</th>\n",
       "      <td>1285717751</td>\n",
       "      <td>/v1/custom/providers/1285717751/insurances</td>\n",
       "      <td>PUT</td>\n",
       "      <td>{\"add\": [\"6417d256-4fdb-4a60-903b-8f42b0405653...</td>\n",
       "      <td>2020-08-07 13:51:21.781884</td>\n",
       "    </tr>\n",
       "  </tbody>\n",
       "</table>\n",
       "</div>"
      ],
      "text/plain": [
       "          npi                                         path method  \\\n",
       "0  1578669594  /v1/custom/providers/1578669594/specialties    PUT   \n",
       "1  1619028081  /v1/custom/providers/1619028081/specialties    PUT   \n",
       "2  1720517568    /v1/custom/providers/1720517568/locations    PUT   \n",
       "3  1578669594  /v1/custom/providers/1578669594/specialties    PUT   \n",
       "4  1285717751   /v1/custom/providers/1285717751/insurances    PUT   \n",
       "\n",
       "                                        request_body  \\\n",
       "0                                     {\"remove\": []}   \n",
       "1                                     {\"remove\": []}   \n",
       "2  {\"add\": [\"3fdd567c-7100-40e5-b6fb-36bef71b4213...   \n",
       "3                                     {\"remove\": []}   \n",
       "4  {\"add\": [\"6417d256-4fdb-4a60-903b-8f42b0405653...   \n",
       "\n",
       "                   created_at  \n",
       "0  2020-08-07 13:51:24.200628  \n",
       "1  2020-08-07 13:51:24.141909  \n",
       "2  2020-08-07 13:51:22.649768  \n",
       "3  2020-08-07 13:51:21.795982  \n",
       "4  2020-08-07 13:51:21.781884  "
      ]
     },
     "execution_count": 31,
     "metadata": {},
     "output_type": "execute_result"
    }
   ],
   "source": [
    "logs.head()"
   ]
  },
  {
   "cell_type": "code",
   "execution_count": 32,
   "id": "rubber-fantasy",
   "metadata": {},
   "outputs": [
    {
     "data": {
      "text/plain": [
       "{'npi': '1932181807',\n",
       " 'first_name': 'David',\n",
       " 'middle_name': 'M',\n",
       " 'last_name': 'Sloven',\n",
       " 'insurances': ['e22922eb-d936-4986-bca9-0767f6e8b55e',\n",
       "  'abc18201-c262-43a4-ac28-6e708e9525c2',\n",
       "  'eecb0179-615f-42cd-9fc0-8f7570f4de63',\n",
       "  'dc059078-9115-488f-bdf6-e9106822225a',\n",
       "  '713bb54b-4436-4cfb-838a-bf1c21f562c3',\n",
       "  'a10041b5-579c-4101-8152-b6a79463353c',\n",
       "  'ea604298-bb16-4d84-b76a-ce6d7c8c3262',\n",
       "  '4c3c10e6-6371-463a-af5f-3bb5212aa05e',\n",
       "  'f5de0109-aba3-4c8f-a1ce-292cf52b1017',\n",
       "  'a21318a9-a835-4e15-87b2-da893031b6ce',\n",
       "  '92d680bc-eaec-4243-9d7f-a8acbf00e6d9',\n",
       "  'ae0b1dd0-7356-41ee-8df4-871a52451eb7',\n",
       "  '3a4b2c17-4235-4982-b275-4018c5283ab4',\n",
       "  '2e7f2d0a-308e-43d4-9bfb-227a7571550f',\n",
       "  '931810bc-cd6d-4bb6-a77a-7c979fbac3fd',\n",
       "  'b8581687-2b4e-4f2f-91a9-9128f5bec540',\n",
       "  'c5734165-3e62-4f14-9559-1e5caec18179',\n",
       "  '4a1b53fe-79e5-464c-83d9-14143306c02c',\n",
       "  '38c1e68c-7591-4244-a1a4-8ac014da340c',\n",
       "  '9fe2c75c-eef5-477b-af9e-1f0e8ef180a0'],\n",
       " 'locations': ['64a5c4d0-45c7-4128-ab77-b4cced19ee48',\n",
       "  'f12117e9-e79a-4d5a-89d1-390d92ebb621',\n",
       "  'a44cefb5-3a92-44a7-a03b-64d0d29e5d7d',\n",
       "  'aa1654c2-d100-411d-afce-d084aac8a55b',\n",
       "  '251cc93d-6657-4d77-8741-7ffa18c05113'],\n",
       " 'specialties': ['c741df78-8460-46f6-a2ce-93de36eb7205']}"
      ]
     },
     "execution_count": 32,
     "metadata": {},
     "output_type": "execute_result"
    }
   ],
   "source": [
    "records['1932181807']"
   ]
  },
  {
   "cell_type": "markdown",
   "id": "healthy-jumping",
   "metadata": {},
   "source": [
    "## Helper methods"
   ]
  },
  {
   "cell_type": "code",
   "execution_count": 33,
   "id": "institutional-latin",
   "metadata": {},
   "outputs": [],
   "source": [
    "def getResource(record):\n",
    "    resource = re.split(\"/\", record['path'])[-1]\n",
    "    resource = resource if resource in resources else None\n",
    "    return resource"
   ]
  },
  {
   "cell_type": "code",
   "execution_count": 34,
   "id": "placed-release",
   "metadata": {},
   "outputs": [],
   "source": [
    "def getMethod(request):\n",
    "    return list(request.keys())[0]"
   ]
  },
  {
   "cell_type": "code",
   "execution_count": 35,
   "id": "shaped-spending",
   "metadata": {},
   "outputs": [],
   "source": [
    "def editProviderFields(request, npi):\n",
    "    records[npi] = {**records[npi], **request}"
   ]
  },
  {
   "cell_type": "code",
   "execution_count": 36,
   "id": "analyzed-barrier",
   "metadata": {},
   "outputs": [],
   "source": [
    "def removeFields(request, method, npi):\n",
    "    for field in request[method]:\n",
    "        records[npi].pop(field, None)"
   ]
  },
  {
   "cell_type": "code",
   "execution_count": 37,
   "id": "manufactured-discussion",
   "metadata": {},
   "outputs": [],
   "source": [
    "def remove(request, method, npi, resource):\n",
    "    records[npi][resource] = list(filter(lambda x: x not in set(request[method]), records[npi][resource]))"
   ]
  },
  {
   "cell_type": "code",
   "execution_count": 38,
   "id": "everyday-tobago",
   "metadata": {},
   "outputs": [],
   "source": [
    "def parseRecord(record):\n",
    "    request = json.loads(record['request_body'])\n",
    "    npi = str(record['npi'])\n",
    "    method = getMethod(request)\n",
    "    resource = getResource(record)\n",
    "    return {\n",
    "        \"request\": request,\n",
    "        \"npi\": npi,\n",
    "        \"method\": method,\n",
    "        \"resource\": resource\n",
    "    }"
   ]
  },
  {
   "cell_type": "code",
   "execution_count": 39,
   "id": "integral-college",
   "metadata": {},
   "outputs": [],
   "source": [
    "def handleEvent(record):\n",
    " \n",
    "    request, npi, method, resource = itemgetter(\"request\", \"npi\", \"method\", \"resource\")(parseRecord(record))\n",
    "    \n",
    "    if method not in crud_methods:\n",
    "        editProviderFields(request, npi)\n",
    "        \n",
    "    elif method == 'remove_fields':\n",
    "        removeFields(request, method, npi)\n",
    "        \n",
    "    elif resource:\n",
    "        \n",
    "        if method == 'override':\n",
    "            records[npi][resource] = request[method]\n",
    "\n",
    "        elif method == 'add':\n",
    "            records[npi][resource] += request[method]\n",
    "\n",
    "        elif method == 'remove':\n",
    "            remove(request, method, npi, resource)"
   ]
  },
  {
   "cell_type": "markdown",
   "id": "according-mainland",
   "metadata": {},
   "source": [
    "## Processing"
   ]
  },
  {
   "cell_type": "code",
   "execution_count": 40,
   "id": "crude-tonight",
   "metadata": {
    "scrolled": true
   },
   "outputs": [
    {
     "data": {
      "text/plain": [
       "999    None\n",
       "998    None\n",
       "997    None\n",
       "996    None\n",
       "995    None\n",
       "       ... \n",
       "4      None\n",
       "3      None\n",
       "2      None\n",
       "1      None\n",
       "0      None\n",
       "Length: 1000, dtype: object"
      ]
     },
     "execution_count": 40,
     "metadata": {},
     "output_type": "execute_result"
    }
   ],
   "source": [
    "logs[::-1].apply(handleEvent, axis=1)"
   ]
  },
  {
   "cell_type": "markdown",
   "id": "transparent-mirror",
   "metadata": {},
   "source": [
    "## Final Records Output"
   ]
  },
  {
   "cell_type": "code",
   "execution_count": 41,
   "id": "searching-ceremony",
   "metadata": {},
   "outputs": [],
   "source": [
    "with open('./final_records.json', 'w', encoding='utf-8') as f:\n",
    "    json.dump(list(records.values()), f, ensure_ascii=False, indent=4)"
   ]
  }
 ],
 "metadata": {
  "kernelspec": {
   "display_name": "Python 3",
   "language": "python",
   "name": "python3"
  },
  "language_info": {
   "codemirror_mode": {
    "name": "ipython",
    "version": 3
   },
   "file_extension": ".py",
   "mimetype": "text/x-python",
   "name": "python",
   "nbconvert_exporter": "python",
   "pygments_lexer": "ipython3",
   "version": "3.9.1"
  }
 },
 "nbformat": 4,
 "nbformat_minor": 5
}
